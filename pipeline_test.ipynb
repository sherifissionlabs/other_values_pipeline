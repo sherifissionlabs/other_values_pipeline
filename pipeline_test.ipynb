{
 "cells": [
  {
   "cell_type": "code",
   "execution_count": null,
   "id": "dece8565",
   "metadata": {},
   "outputs": [],
   "source": [
    "# sample data is ready - Done \n",
    "# code to read the sample data and extracted chemicals -  done  \n",
    "# code to convert raw md file to readble md file - done\n",
    "# code to chunk the md file - chunk size 2000 tokens - done\n",
    "# store the chemicals to flashtext - to be done \n",
    "# chemicals in the chunk - chunk wise chemicals for prompt buulding - done\n",
    "# prompt input instruction \n",
    "# value_extraction_prompt - to be done \n",
    "# complete prompt building - to be done\n",
    "# loop over chunks - other value extraction - to be done\n",
    "    ## other value mapping to RR chemicals - to be done \n",
    "# evaluation scripts to evaluate columns wise - to be done\n",
    "# test on multipule files - to be done"
   ]
  },
  {
   "cell_type": "code",
   "execution_count": null,
   "id": "83997337",
   "metadata": {},
   "outputs": [],
   "source": [
    "# imports \n",
    "from langchain_community.document_loaders import TextLoader\n",
    "from langchain_text_splitters import RecursiveCharacterTextSplitter\n",
    "import re\n",
    "from markdownify import markdownify as md\n",
    "from bs4 import BeautifulSoup"
   ]
  },
  {
   "cell_type": "code",
   "execution_count": null,
   "id": "6b970e55",
   "metadata": {},
   "outputs": [],
   "source": [
    "import logging\n",
    "import traceback\n",
    "import json\n",
    "import pandas as pd"
   ]
  },
  {
   "cell_type": "code",
   "execution_count": null,
   "id": "16620a91",
   "metadata": {},
   "outputs": [],
   "source": [
    "# Configure logging\n",
    "logging.basicConfig(\n",
    "    level=logging.INFO,\n",
    "    format='%(asctime)s - %(name)s - %(levelname)s - %(message)s',\n",
    "    handlers=[\n",
    "        logging.StreamHandler()\n",
    "    ]\n",
    ")\n",
    "logger = logging.getLogger(__name__)"
   ]
  },
  {
   "cell_type": "code",
   "execution_count": null,
   "id": "ce107563",
   "metadata": {},
   "outputs": [],
   "source": [
    "\n",
    "@staticmethod\n",
    "def remove_html_comments(md_content):\n",
    "    # This regex removes everything from <!-- to -->\n",
    "    return re.sub(r'<!--.*?-->', '', md_content, flags=re.DOTALL)\n",
    "\n",
    "@staticmethod\n",
    "def convert_html_tables_to_markdowns(md_content):\n",
    "    # Remove HTML comments\n",
    "    md_content = remove_html_comments(md_content)\n",
    "\n",
    "    new_md_content = md_content\n",
    "    try:\n",
    "        soup = BeautifulSoup(md_content, \"html.parser\")\n",
    "        for table in soup.find_all(\"table\"):\n",
    "            html_str = str(table)\n",
    "            markdown_table = md(html_str).strip()\n",
    "\n",
    "            if html_str in new_md_content:\n",
    "                new_md_content = new_md_content.replace(html_str, markdown_table)\n",
    "            else:\n",
    "                start_index = new_md_content.find(\"<table\")\n",
    "                end_index = new_md_content.find(\"</table>\", start_index) + len(\"</table>\")\n",
    "                if start_index != -1 and end_index != -1:\n",
    "                    new_md_content = (\n",
    "                        new_md_content[:start_index]\n",
    "                        + markdown_table\n",
    "                        + new_md_content[end_index:]\n",
    "                    )\n",
    "    except Exception as e:\n",
    "        logger.error(f\"Error converting HTML tables to markdown: {str(e)}\")\n",
    "        logger.error(traceback.format_exc())\n",
    "\n",
    "    return new_md_content.lstrip().rstrip()\n"
   ]
  },
  {
   "cell_type": "code",
   "execution_count": null,
   "id": "0898290c",
   "metadata": {},
   "outputs": [],
   "source": [
    "def creat_chunks(md_path):\n",
    "    # load the file and chunking it \n",
    "\n",
    "    loader = TextLoader(md_path,encoding='utf-8')\n",
    "\n",
    "    md_content = loader.load()\n",
    "    \n",
    "    md_content = md_content[0].page_content\n",
    "\n",
    "    md_content = convert_html_tables_to_markdowns(md_content)\n",
    "\n",
    "    text_splitter = RecursiveCharacterTextSplitter(chunk_size=2000, chunk_overlap=200)\n",
    "\n",
    "    chunks = text_splitter.split_text(md_content)\n",
    "\n",
    "    return chunks"
   ]
  },
  {
   "cell_type": "code",
   "execution_count": null,
   "id": "ab1686c8",
   "metadata": {},
   "outputs": [],
   "source": [
    "md_path = \"data\\\\US_DEA_Source_file.md\"\n",
    "chunks = creat_chunks(md_path)"
   ]
  },
  {
   "cell_type": "code",
   "execution_count": null,
   "id": "5bba1cca",
   "metadata": {},
   "outputs": [],
   "source": [
    "# code to read extracted chemicals\n",
    "import pandas as pd\n",
    "\n",
    "df = pd.read_excel(\"data\\\\US_DEA_chemicals.xlsx\", header=0)\n",
    "\n",
    "df.columns = df.iloc[0]"
   ]
  },
  {
   "cell_type": "code",
   "execution_count": null,
   "id": "d2777a61",
   "metadata": {},
   "outputs": [],
   "source": [
    "df.columns = df.iloc[0]"
   ]
  },
  {
   "cell_type": "code",
   "execution_count": null,
   "id": "65d45e25",
   "metadata": {},
   "outputs": [],
   "source": [
    "extracted_chemicals = df['Chemical Name'].values.tolist()[1:]"
   ]
  },
  {
   "cell_type": "code",
   "execution_count": null,
   "id": "e8d51891",
   "metadata": {},
   "outputs": [],
   "source": [
    "# flashtext chemical annotation \n",
    "from flashtext import KeywordProcessor\n",
    "keyword_processor = KeywordProcessor(case_sensitive=False)\n",
    "\n",
    "for chemical in extracted_chemicals:\n",
    "    keyword_processor.add_keyword( chemical )\n",
    "\n",
    "\n"
   ]
  },
  {
   "cell_type": "code",
   "execution_count": null,
   "id": "7e13697d",
   "metadata": {},
   "outputs": [],
   "source": [
    "# chunk wise available chemicals retrival\n",
    "chemical_in_chunk = keyword_processor.extract_keywords(chunks[18])"
   ]
  },
  {
   "cell_type": "code",
   "execution_count": null,
   "id": "412e2b2b",
   "metadata": {},
   "outputs": [],
   "source": [
    "print(chunks[18])"
   ]
  },
  {
   "cell_type": "code",
   "execution_count": null,
   "id": "10a67214",
   "metadata": {},
   "outputs": [],
   "source": []
  },
  {
   "cell_type": "code",
   "execution_count": null,
   "id": "a98b9556",
   "metadata": {},
   "outputs": [],
   "source": []
  },
  {
   "cell_type": "code",
   "execution_count": null,
   "id": "48ec3809",
   "metadata": {},
   "outputs": [],
   "source": [
    "context_example = \"\"\"\n",
    "                            | --- | --- |\n",
    "                            | (19) Pethidine (meperidine) | 9230 |\n",
    "                            | (20) Pethidine-Intermediate-A, 4-cyano-1-methyl-4-phenylpiperidine | 9232 |\n",
    "                            | (21) Pethidine-Intermediate-B, ethyl-4-phenylpiperidine-4-carboxylate | 9233 |\n",
    "                            | (22) Pethidine-Intermediate-C, 1-methyl-4-phenylpiperidine-4-carboxylic acid | 9234 |\n",
    "                            | (23) Phenazocine | 9715 |\n",
    "                            | (24) Piminodine | 9730 |\n",
    "                            | (25) Racemethorphan | 9732 |\n",
    "                            | (26) Racemorphan | 9733 |\n",
    "                            | (27) Remifentanil | 9739 |\n",
    "                            | (28) Sufentanil | 9740 |\n",
    "                            | (29) Tapentadol | 9780 |\n",
    "                            | (30) Thiafentanil | 9729 |\n",
    "                            \n",
    "                \"\"\"\n",
    "\n",
    "value_format_prompt = \"\"\" \n",
    "                            [\n",
    "                                {\n",
    "                                    \"Chemical Name\": \"Pethidine\",\n",
    "                                    \"Type\": \"DEA Number\",\n",
    "                                    \"Value\": \"9230\",\n",
    "                                    \"remark\" : \"present\"\n",
    "                                },\n",
    "                                {\n",
    "                                    \"Chemical Name\": \"Tapentadol\",\n",
    "                                    \"Type\": \"DEA Number\",\n",
    "                                    \"Value\": \"9780\",\n",
    "                                    \"remark\" : \"Present\"\n",
    "                                },\n",
    "                                {\n",
    "                                    \"Chemical Name\": \"Phenazocine\",\n",
    "                                    \"Type\": \"DEA Number\",\n",
    "                                    \"Value\": \"9715\",\n",
    "                                    \"remark\" : \"Present\"\n",
    "                                },\n",
    "                            ]\n",
    "                            \"\"\"\n",
    "\n",
    "    # Example JSON format with corrected syntax\n",
    "value_extract_example = f\"\"\"Output format (in JSON): Please format the output strictly as valid JSON, using double quotes (\") around all keys and string values.\n",
    "                            {value_format_prompt}\n",
    "    \n",
    "                        \"\"\"\n",
    "\n",
    "# Combined value extraction section\n",
    "value_extraction = f\"\"\"Context: {context_example}\n",
    "Values to extract: {value_extract_example}\n",
    "\"\"\"\n",
    "\n",
    "# Final prompt template\n",
    "prompt_template = f\"\"\"You are a Chemical relational values extraction expert.\n",
    "\n",
    "    Instructions for Extracting Other Values:\n",
    "\n",
    "    You will be provided with list of chemicals and a context, from the given context, extract other values for every chemical given in the list. \n",
    "    \n",
    "    Take the example given below as a refference. If value not exit then return None for that variable\n",
    "\n",
    "    {value_extraction}\n",
    "\n",
    "    \"\"\" "
   ]
  },
  {
   "cell_type": "code",
   "execution_count": null,
   "id": "1f7323b6",
   "metadata": {},
   "outputs": [],
   "source": [
    "print(prompt_template)"
   ]
  },
  {
   "cell_type": "code",
   "execution_count": null,
   "id": "5db1159d",
   "metadata": {},
   "outputs": [],
   "source": [
    "import os\n",
    "from dotenv import load_dotenv\n",
    "from openai import AzureOpenAI"
   ]
  },
  {
   "cell_type": "code",
   "execution_count": null,
   "id": "740f6035",
   "metadata": {},
   "outputs": [],
   "source": [
    "model_name = \"gpt-4o-mini\"\n",
    "llm_deployment = \"gpt-4o-mini\"\n",
    "api_version = \"2024-12-01-preview\"\n",
    "embed_deployment = \"text-embedding-3-small\"\n",
    "load_dotenv()\n",
    "\n",
    "llm_client = AzureOpenAI(\n",
    "                        api_version=api_version,\n",
    "                        azure_endpoint=os.getenv(\"AZURE_OPENAI_ENDPOINT\"),\n",
    "                        api_key=os.getenv(\"OPENAI_API_KEY\"),\n",
    "                        azure_deployment = llm_deployment,\n",
    "                        )\n"
   ]
  },
  {
   "cell_type": "code",
   "execution_count": null,
   "id": "85e037f5",
   "metadata": {},
   "outputs": [],
   "source": [
    "chunk_text = chunks[18]\n",
    "chunk_chemical = chemical_in_chunk\n",
    "input_text = f\"\"\" \n",
    "list of chemical for which values to be extracted:\n",
    "{chunk_chemical}\n",
    "\n",
    "chunk text from which values to be extracted\n",
    "{chunk_text}\n",
    "\n",
    "\"\"\""
   ]
  },
  {
   "cell_type": "code",
   "execution_count": null,
   "id": "349dae9f",
   "metadata": {},
   "outputs": [],
   "source": [
    "print(input_text) "
   ]
  },
  {
   "cell_type": "code",
   "execution_count": null,
   "id": "ff2c6ae4",
   "metadata": {},
   "outputs": [],
   "source": [
    "response = llm_client.chat.completions.create(\n",
    "    messages=[\n",
    "        {\n",
    "            \"role\": \"system\",\n",
    "            \"content\": prompt_template,\n",
    "        },\n",
    "        {\n",
    "            \"role\": \"user\",\n",
    "            \"content\": input_text,\n",
    "        }\n",
    "    ],\n",
    "    max_tokens=4096,\n",
    "    temperature=0.1,\n",
    "    top_p=1.0,\n",
    "    model=llm_deployment\n",
    ")"
   ]
  },
  {
   "cell_type": "code",
   "execution_count": null,
   "id": "5028d723",
   "metadata": {},
   "outputs": [],
   "source": [
    "response_data = response.choices[0].message.content"
   ]
  },
  {
   "cell_type": "code",
   "execution_count": null,
   "id": "8f62fa7c",
   "metadata": {},
   "outputs": [],
   "source": [
    "print(response_data)"
   ]
  },
  {
   "cell_type": "code",
   "execution_count": null,
   "id": "029fdc21",
   "metadata": {},
   "outputs": [],
   "source": []
  },
  {
   "cell_type": "code",
   "execution_count": null,
   "id": "42b9451a",
   "metadata": {},
   "outputs": [],
   "source": []
  },
  {
   "cell_type": "code",
   "execution_count": null,
   "id": "18a59fc6",
   "metadata": {},
   "outputs": [],
   "source": [
    "def other_value_extractions_from_llm(prompt_template, input_text):\n",
    "\n",
    "        response = llm_client.chat.completions.create(\n",
    "        messages=[\n",
    "            {\n",
    "                \"role\": \"system\",\n",
    "                \"content\": prompt_template,\n",
    "            },\n",
    "            {\n",
    "                \"role\": \"user\",\n",
    "                \"content\": input_text,\n",
    "            }\n",
    "        ],\n",
    "        max_tokens=4096,\n",
    "        temperature=0.1,\n",
    "        top_p=1.0,\n",
    "        model=llm_deployment\n",
    "                            )\n",
    "        \n",
    "        response_data = response.choices[0].message.content\n",
    "\n",
    "        cleaned_response = response_data.replace(\"```json\", \"\").replace(\"```\", \"\").lstrip().rstrip()\n",
    "        # Extra safety: Replace single quotes with double quotes (if clearly JSON-like)\n",
    "\n",
    "        if cleaned_response.startswith(\"[{\") and \"'\" in cleaned_response and '\"' not in cleaned_response:\n",
    "            cleaned_response = cleaned_response.replace(\"'\", '\"')\n",
    "            \n",
    "        chemicals_extracted = json.loads(cleaned_response)\n",
    "\n",
    "        return chemicals_extracted"
   ]
  },
  {
   "cell_type": "code",
   "execution_count": null,
   "id": "500556b8",
   "metadata": {},
   "outputs": [],
   "source": [
    "def build_input_text(chunk_chemical,chunk_text):\n",
    "\n",
    "    input_text = f\"\"\" \n",
    "    list of chemical for which values to be extracted:\n",
    "    {chunk_chemical}\n",
    "\n",
    "    chunk text from which values to be extracted\n",
    "    {chunk_text}\n",
    "    \"\"\"\n",
    "    return input_text"
   ]
  },
  {
   "cell_type": "code",
   "execution_count": null,
   "id": "4e4fe00e",
   "metadata": {},
   "outputs": [],
   "source": [
    "chemical_other_values = []\n",
    "\n",
    "for chunk in chunks:\n",
    "    \n",
    "    chemicals_in_chunk = keyword_processor.extract_keywords(chunk)\n",
    "\n",
    "    if chemicals_in_chunk:\n",
    "\n",
    "        input_text =  build_input_text(chemicals_in_chunk, chunk)\n",
    "    \n",
    "        other_values = other_value_extractions_from_llm(prompt_template, input_text)\n",
    "\n",
    "        chemical_other_values.extend(other_values)\n",
    "    \n",
    "df = pd.DataFrame(chemical_other_values)\n",
    "\n"
   ]
  },
  {
   "cell_type": "code",
   "execution_count": null,
   "id": "90c220db",
   "metadata": {},
   "outputs": [],
   "source": [
    "df1 = pd.DataFrame(chemical_other_values)"
   ]
  },
  {
   "cell_type": "markdown",
   "id": "8edfac70",
   "metadata": {},
   "source": [
    "# clean code"
   ]
  },
  {
   "cell_type": "code",
   "execution_count": 1,
   "id": "a5d9307c",
   "metadata": {},
   "outputs": [
    {
     "name": "stderr",
     "output_type": "stream",
     "text": [
      "c:\\Users\\FL_LPT-706\\Documents\\Other_value_extraction_pipeline\\ot_pipeline3_12\\Lib\\site-packages\\tqdm\\auto.py:21: TqdmWarning: IProgress not found. Please update jupyter and ipywidgets. See https://ipywidgets.readthedocs.io/en/stable/user_install.html\n",
      "  from .autonotebook import tqdm as notebook_tqdm\n",
      "2025-06-21 21:15:52,013 - sentence_transformers.SentenceTransformer - INFO - Use pytorch device_name: cpu\n",
      "2025-06-21 21:15:52,014 - sentence_transformers.SentenceTransformer - INFO - Load pretrained SentenceTransformer: all-MiniLM-L6-v2\n"
     ]
    }
   ],
   "source": [
    "import pandas as pd\n",
    "from pre_processing import Pre_processing\n",
    "from prompt_building import prompt_building\n",
    "import re\n",
    "from other_value_evaluation import ValuesComparision\n",
    "\n",
    "# === Config === #\n",
    "md_path = \"data\\\\A_SUSMP\\\\A_SUSMP_S5.md\"\n",
    "\n",
    "extracted_chemical_path = \"data\\\\A_SUSMP\\\\A_susmp_2215_extracted_chemicals.xlsx\"\n",
    "\n",
    "ground_truth_path = \"data\\\\A_SUSMP\\\\A_susmp_2215_gt.xlsx\"\n",
    "\n",
    "compare_columns = [\"value\", \"unit\", \"type\", \"remark\", \"listedunder\"]\n"
   ]
  },
  {
   "cell_type": "code",
   "execution_count": 2,
   "id": "0b59be7a",
   "metadata": {},
   "outputs": [],
   "source": [
    "# Inputs from user/UI\n",
    "context_example = \"\"  # Example context for value format\n",
    "value_format_prompt = [{}]  # List of JSON examples for value format"
   ]
  },
  {
   "cell_type": "code",
   "execution_count": 3,
   "id": "42ca2ef2",
   "metadata": {},
   "outputs": [
    {
     "name": "stdout",
     "output_type": "stream",
     "text": [
      "chunks created total chunks 86\n"
     ]
    }
   ],
   "source": [
    "chunks = Pre_processing.creat_chunks(md_path, chunk_size=2000)\n",
    "print(f\"chunks created total chunks {len(chunks)}\")"
   ]
  },
  {
   "cell_type": "code",
   "execution_count": null,
   "id": "05f67616",
   "metadata": {},
   "outputs": [],
   "source": [
    "\"\"\" \n",
    "PHENOL, including cresols and xylenols and any other homologue of phenol boiling below\n",
    "220°C, when in animal feed additives containing 15% or less of such substances,\n",
    "except in preparations containing 1% or less of phenol and in preparations containing\n",
    "3% or less of cresols and xylenols and other homologues of phenol.\n",
    "\n",
    "PHENYL METHYL KETONE except in preparations containing 25% or less of designated\n",
    "solvents\n",
    "\n",
    "PERMETHRIN (excluding preparations for human therapeutic use):\n",
    "\n",
    "(a) in preparations containing 25% or less of permethrin; or\n",
    "\n",
    "(b) in preparations for external use, for the treatment of dogs, containing 50% or less\n",
    "of permethrin when packed in single use containers having a capacity of 4 mL or\n",
    "less;\n",
    "\n",
    "except in preparations containing 2% or less of permethrin.\n",
    "\n",
    "PETROL except preparations containing 25% or less of petrol.\n",
    "\n",
    "PRALLETHRIN (cis:trans=20:80) in preparations containing 10% or less of prallethrin\n",
    "except in insecticidal mats containing 1% or less of prallethrin.\n",
    "\n",
    "POLIXETONIUM SALTS in preparations containing 60% or less of polixetonium salts\n",
    "except in preparations containing 1% or less of polixetonium salts.\n",
    "\n",
    "\"\"\""
   ]
  },
  {
   "cell_type": "code",
   "execution_count": 6,
   "id": "f2152b24",
   "metadata": {},
   "outputs": [
    {
     "name": "stdout",
     "output_type": "stream",
     "text": [
      "PINOXADEN in preparations containing 10% or less of pinoxaden.\n",
      "\n",
      "PIPERAZINE for animal use.\n",
      "\n",
      "PIRIMICARB in preparations containing 0.5% or less of pirimicarb.\n",
      "\n",
      "POLIXETONIUM SALTS in preparations containing 60% or less of polixetonium salts\n",
      "except in preparations containing 1% or less of polixetonium salts.\n",
      "\n",
      "POLYETHANOXY (15) TALLOW AMINE.\n",
      "\n",
      "POLYOXIN D ZINC SALT.\n",
      "\n",
      "POLY(OXY-1,2-ETHANEDIYL), a -[2-[(2-HYDROXYETHYL)AMINO]-2-OXOETHYL]-\n",
      "a -HYDROXY-,MONO-C13-15-ALKYL ETHERS.\n",
      "\n",
      "POTASSIUM CHLORATE except:\n",
      "\n",
      "(a) when included in Schedule 2; or\n",
      "\n",
      "(b) in preparations containing 10% or less of potassium chlorate.\n",
      "\n",
      "POTASSIUM HYDROXIDE (excluding its salts and derivatives) in preparations containing\n",
      "5% or less of potassium hydroxide being:\n",
      "\n",
      "(a) solid preparations, the pH of which in a 10 g/L aqueous solution is more than 11.5;\n",
      "or\n",
      "\n",
      "(b) liquid or semi-solid preparations, the pH of which is more than 11.5 except in food\n",
      "additive preparations for domestic use.\n",
      "\n",
      "POTASSIUM METABISULPHITE when packed for domestic use except in preparations\n",
      "containing 10% or less of potassium metabisulphite.\n",
      "\n",
      "POTASSIUM NITRITE in preparations containing 1% or less of potassium nitrite except:\n",
      "\n",
      "(a) in preparations containing 0.5% or less of potassium nitrite;\n",
      "\n",
      "(b) when present as an excipient in preparations for therapeutic use; or\n",
      "\n",
      "(c) in aerosols.\n",
      "\n",
      "\n",
      "\n",
      "\n",
      "\n",
      "\n",
      "\n",
      "\n",
      "POTASSIUM PEROXOMONOSULFATE TRIPLE SALT in preparations containing 5% or\n",
      "less of potassium peroxomonosulfate triple salt being:\n",
      "\n",
      "(a) solid preparations, the pH of which in a 10 g/L aqueous solution is less than 2.5; or\n",
      "\n",
      "(b) liquid or semi-solid preparations, the pH of which is less than 2.5.\n",
      "\n",
      "POTASSIUM SULFIDE in preparations for metal treatment in containers each containing 50\n",
      "g or less of potassium sulfide.\n",
      "\n",
      "PRALLETHRIN (cis:trans=20:80) in preparations containing 10% or less of prallethrin\n",
      "except in insecticidal mats containing 1% or less of prallethrin.\n",
      "\n",
      "PROFOXYDIM except in preparations containing 20% or less of profoxydim.\n",
      "\n",
      "PROGESTERONE:\n"
     ]
    }
   ],
   "source": [
    "print(chunks[25])"
   ]
  },
  {
   "cell_type": "code",
   "execution_count": null,
   "id": "4d8f3549",
   "metadata": {},
   "outputs": [],
   "source": [
    "df = pd.read_excel(extracted_chemical_path, header=0)"
   ]
  },
  {
   "cell_type": "code",
   "execution_count": null,
   "id": "c5fe8ab2",
   "metadata": {},
   "outputs": [],
   "source": [
    "df"
   ]
  },
  {
   "cell_type": "code",
   "execution_count": null,
   "id": "71c1cc1f",
   "metadata": {},
   "outputs": [],
   "source": [
    "keyword_processor = Pre_processing.add_extracted_chemicas_to_flashtext(chemicals_xlsx_path)\n",
    "print(f\"added extrcated chemicals to keyword processor\")"
   ]
  },
  {
   "cell_type": "code",
   "execution_count": null,
   "id": "a3ef7acc",
   "metadata": {},
   "outputs": [],
   "source": [
    "prompt_template = prompt_building.build_prompt(context_example, value_format_prompt)"
   ]
  },
  {
   "cell_type": "code",
   "execution_count": null,
   "id": "b23998c9",
   "metadata": {},
   "outputs": [],
   "source": [
    "chemical_other_values = []\n",
    "\n",
    "for i, chunk in enumerate(chunks):\n",
    "    chemicals_in_chunk = keyword_processor.extract_keywords(chunk)\n",
    "\n",
    "    if not chemicals_in_chunk:\n",
    "        print(f\"#### NO values extracted for the chunk number {i}, number of chemicals in the chunk 0\")\n",
    "        continue\n",
    "\n",
    "    input_text = prompt_building.build_input_text(chemicals_in_chunk, chunk)\n",
    "\n",
    "    extracted_values = prompt_building.other_value_extractions_from_llm(prompt_template, input_text)\n",
    "    \n",
    "    print(f\">>>> chunk number {i} >>>>extracted chemicals {len(extracted_values)}>>>>actual chemicals {len(chemicals_in_chunk)} \")\n",
    "    print(f\"################ >>>>>>> missed chemicals {len(chemicals_in_chunk)-len(extracted_values)}>>>>>>>>################ \")\n",
    "\n",
    "    chemical_other_values.extend(extracted_values)\n",
    "\n"
   ]
  },
  {
   "cell_type": "code",
   "execution_count": null,
   "id": "3c8ae440",
   "metadata": {},
   "outputs": [],
   "source": [
    "chemical_other_values"
   ]
  },
  {
   "cell_type": "code",
   "execution_count": null,
   "id": "ee4455c4",
   "metadata": {},
   "outputs": [],
   "source": [
    "df = pd.DataFrame(chemical_other_values)\n",
    "# df.to_csv(extracted_csv_path, index=False)"
   ]
  },
  {
   "cell_type": "code",
   "execution_count": null,
   "id": "72d70ba7",
   "metadata": {},
   "outputs": [],
   "source": [
    "df"
   ]
  },
  {
   "cell_type": "code",
   "execution_count": null,
   "id": "ed74c414",
   "metadata": {},
   "outputs": [],
   "source": [
    "# merge the other values extracted with extracted chemicals\n",
    "df1 = pd.read_excel(extracted_chemical_path,header=0)\n",
    "\n",
    "# df1.columns = df1.iloc[0]  # First row becomes header\n",
    "# df1 = df1[1:]              # Drop the first row from data\n",
    "# df1 = df1.reset_index(drop=True)\n",
    "\n"
   ]
  },
  {
   "cell_type": "code",
   "execution_count": null,
   "id": "aa486c37",
   "metadata": {},
   "outputs": [],
   "source": [
    "df1"
   ]
  },
  {
   "cell_type": "code",
   "execution_count": null,
   "id": "356fad51",
   "metadata": {},
   "outputs": [],
   "source": [
    "merged_df = pd.merge(df1, df, on='Chemical Name', how='left')"
   ]
  },
  {
   "cell_type": "code",
   "execution_count": null,
   "id": "523fe751",
   "metadata": {},
   "outputs": [],
   "source": [
    "merged_df"
   ]
  },
  {
   "cell_type": "code",
   "execution_count": null,
   "id": "8a309477",
   "metadata": {},
   "outputs": [],
   "source": [
    "merged_df.to_excel(\"data\\\\merged_base_othervalues.xlsx\",index=False)"
   ]
  },
  {
   "cell_type": "code",
   "execution_count": null,
   "id": "289a54e2",
   "metadata": {},
   "outputs": [],
   "source": [
    "def map_othervalues_to_RR_chemicals(df):\n",
    "    # Load input\n",
    "    # df = pd.read_csv(\"inputrr1.csv\")\n",
    "\n",
    "    # Ensure consistent column order\n",
    "    columns_to_copy = [col for col in df.columns if col not in [\"CAS\", \"Chemical Name\"]]\n",
    "\n",
    "    # Split base and RR entries\n",
    "    base_df = df[~df[\"CAS\"].str.startswith(\"RR-\")].copy()\n",
    "    rr_df = df[df[\"CAS\"].str.startswith(\"RR-\")].copy()\n",
    "\n",
    "    # Normalize names\n",
    "    def normalize(name):\n",
    "        return str(name).lower().strip()\n",
    "\n",
    "    # Fill RR rows with corresponding base info using strict word-boundary matching\n",
    "    for rr_idx, rr_row in rr_df.iterrows():\n",
    "        rr_name = normalize(rr_row[\"Chemical Name\"])\n",
    "        \n",
    "        for _, base_row in base_df.iterrows():\n",
    "            base_name = normalize(base_row[\"Chemical Name\"])\n",
    "            \n",
    "            # Use \\b to ensure it matches whole words or with space boundaries\n",
    "            if re.search(rf\"\\b{re.escape(base_name)}\\b\", rr_name):\n",
    "                for col in columns_to_copy:\n",
    "                    rr_df.at[rr_idx, col] = base_row.get(col, \"\")\n",
    "                break  # Use first matching base chemical\n",
    "\n",
    "    # Combine base + updated RR rows back\n",
    "    final_df = pd.concat([base_df, rr_df], ignore_index=True)\n",
    "\n",
    "    # # Save output\n",
    "    # final_df.to_csv(\"output_with_base_data1.csv\", index=False)\n",
    "    # print(final_df)\n",
    "\n",
    "    return final_df\n"
   ]
  },
  {
   "cell_type": "code",
   "execution_count": null,
   "id": "cb0cfd70",
   "metadata": {},
   "outputs": [],
   "source": [
    "mapped_df = map_othervalues_to_RR_chemicals(merged_df)"
   ]
  },
  {
   "cell_type": "code",
   "execution_count": null,
   "id": "d2bf9379",
   "metadata": {},
   "outputs": [],
   "source": [
    "mapped_df"
   ]
  },
  {
   "cell_type": "code",
   "execution_count": null,
   "id": "5c7a14f1",
   "metadata": {},
   "outputs": [],
   "source": [
    "mapped_df.to_excel(\"data\\\\rr_mapped_other_values.xlsx\", index=False)"
   ]
  },
  {
   "cell_type": "code",
   "execution_count": null,
   "id": "f9425a89",
   "metadata": {},
   "outputs": [],
   "source": [
    "# pd.read_excel(\"data\\\\rr_mapped_other_values.xlsx\")"
   ]
  },
  {
   "cell_type": "code",
   "execution_count": null,
   "id": "98ce4750",
   "metadata": {},
   "outputs": [],
   "source": [
    "ground_truth_df = pd.read_excel(ground_truth_path)\n",
    "ground_truth_df"
   ]
  },
  {
   "cell_type": "code",
   "execution_count": null,
   "id": "98c9a4c1",
   "metadata": {},
   "outputs": [],
   "source": [
    "\n",
    "evaluation_results = ValuesComparision.evaluate_extraction_accuracy(ground_truth_df, mapped_df, compare_columns)\n"
   ]
  },
  {
   "cell_type": "code",
   "execution_count": null,
   "id": "57fbe0f6",
   "metadata": {},
   "outputs": [],
   "source": []
  },
  {
   "cell_type": "markdown",
   "id": "ee4389fc",
   "metadata": {},
   "source": [
    "# Compliled code"
   ]
  },
  {
   "cell_type": "code",
   "execution_count": null,
   "id": "ac42079b",
   "metadata": {},
   "outputs": [],
   "source": []
  },
  {
   "cell_type": "code",
   "execution_count": null,
   "id": "fbbfd612",
   "metadata": {},
   "outputs": [],
   "source": [
    "import pandas as pd\n",
    "from pre_processing import Pre_processing\n",
    "from prompt_building import prompt_building\n",
    "import re\n",
    "from other_value_evaluation import ValuesComparision\n",
    "\n",
    "# === Config === #\n",
    "md_path = \"data\\\\US_DEA_Source_file.md\"\n",
    "chemicals_xlsx_path = \"data\\\\US_DEA_chemicals.xlsx\"\n",
    "\n",
    "# Inputs from user/UI\n",
    "context_example = \"\"  # Example context for value format\n",
    "value_format_prompt = [{}]  # List of JSON examples for value format\n",
    "\n",
    "chunks = Pre_processing.creat_chunks(md_path, chunk_size=2000)\n",
    "print(f\"chunks created total chunks {len(chunks)}\")\n",
    "\n",
    "keyword_processor = Pre_processing.add_extracted_chemicas_to_flashtext(chemicals_xlsx_path)\n",
    "print(f\"added extrcated chemicals to keyword processor\")\n",
    "\n",
    "prompt_template = prompt_building.build_prompt(context_example, value_format_prompt)\n",
    "\n",
    "chemical_other_values = []\n",
    "\n",
    "for i, chunk in enumerate(chunks):\n",
    "    chemicals_in_chunk = keyword_processor.extract_keywords(chunk)\n",
    "\n",
    "    if not chemicals_in_chunk:\n",
    "        print(f\"#### NO values extracted for the chunk number {i}, number of chemicals in the chunk 0\")\n",
    "        continue\n",
    "\n",
    "    input_text = prompt_building.build_input_text(chemicals_in_chunk, chunk)\n",
    "\n",
    "    extracted_values = prompt_building.other_value_extractions_from_llm(prompt_template, input_text)\n",
    "    \n",
    "    print(f\">>>> chunk number {i} >>>>extracted chemicals {len(extracted_values)}>>>>actual chemicals {len(chemicals_in_chunk)} \")\n",
    "    print(f\"################ >>>>>>> missed chemicals {len(chemicals_in_chunk)-len(extracted_values)}>>>>>>>>################ \")\n",
    "\n",
    "    chemical_other_values.extend(extracted_values)\n",
    "\n",
    "\n",
    "df = pd.DataFrame(chemical_other_values)\n",
    "\n",
    "df1 = pd.read_excel(\"data\\\\US_DEA_chemicals.xlsx\",header=0)\n",
    "\n",
    "merged_df = pd.merge(df1, df, on='Chemical Name', how='left')\n",
    "\n",
    "# merged_df.to_excel(\"data\\\\merged_base_othervalues.xlsx\",index=False)\n",
    "\n",
    "mapped_df = map_othervalues_to_RR_chemicals(merged_df)\n",
    "\n",
    "# mapped_df.to_excel(\"data\\\\rr_mapped_other_values.xlsx\", index=False)\n",
    "\n",
    "ground_truth_df = pd.read_excel(\"data\\\\US_DEA_chemicals_gt.xlsx\")\n",
    "\n",
    "compare_columns = [\"value\", \"type\", \"remark\", \"listedunder\"]\n",
    "\n",
    "evaluation_results = ValuesComparision.evaluate_extraction_accuracy(ground_truth_df, mapped_df, compare_columns)\n"
   ]
  },
  {
   "cell_type": "code",
   "execution_count": null,
   "id": "26751016",
   "metadata": {},
   "outputs": [],
   "source": []
  },
  {
   "cell_type": "code",
   "execution_count": null,
   "id": "8ee07bb8",
   "metadata": {},
   "outputs": [],
   "source": []
  },
  {
   "cell_type": "code",
   "execution_count": null,
   "id": "0eb3a1d7",
   "metadata": {},
   "outputs": [],
   "source": []
  },
  {
   "cell_type": "code",
   "execution_count": null,
   "id": "8b7248dd",
   "metadata": {},
   "outputs": [],
   "source": []
  }
 ],
 "metadata": {
  "kernelspec": {
   "display_name": "ot_pipeline3_12",
   "language": "python",
   "name": "python3"
  },
  "language_info": {
   "codemirror_mode": {
    "name": "ipython",
    "version": 3
   },
   "file_extension": ".py",
   "mimetype": "text/x-python",
   "name": "python",
   "nbconvert_exporter": "python",
   "pygments_lexer": "ipython3",
   "version": "3.12.9"
  }
 },
 "nbformat": 4,
 "nbformat_minor": 5
}
